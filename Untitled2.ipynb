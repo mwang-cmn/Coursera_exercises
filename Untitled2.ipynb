{
 "cells": [
  {
   "cell_type": "markdown",
   "id": "0207ac33-bfa2-487f-b000-c856f5a3def4",
   "metadata": {},
   "source": [
    "# Data Science Tools and Ecosystem"
   ]
  },
  {
   "cell_type": "markdown",
   "id": "8860f238-b335-4587-ba03-8485352ef5bb",
   "metadata": {},
   "source": [
    "In this notebook, Data Science Tools and Ecosystem are summarized."
   ]
  },
  {
   "cell_type": "markdown",
   "id": "351c0f2f-12a5-4f53-848e-5f7a214949e2",
   "metadata": {},
   "source": [
    "Some of the popular languages that Data Scientists use are:\n",
    "1. Python  \n",
    "2. R  \n",
    "3. SQL  \n",
    "4. Julia  \n",
    "5. Scala"
   ]
  },
  {
   "cell_type": "markdown",
   "id": "203ae963-639a-40df-a102-2d8d32fd0cba",
   "metadata": {},
   "source": [
    "Some of the commonly used libraries used by Data Scientists include:\n",
    "1. pandas\n",
    "2. geopy\n",
    "3. matplotlib\n",
    "4. seaborn\n",
    "5. scikit-learn\n",
    "6. scipy\n",
    "7. plotly"
   ]
  },
  {
   "cell_type": "markdown",
   "id": "0a1bff6a-203e-42f2-8ebc-8b9151684d57",
   "metadata": {},
   "source": [
    "| Data Science Tools           |\n",
    "|-----------------------------|\n",
    "| Jupyter Notebook            |\n",
    "| RStudio                     |\n",
    "| Apache Zeppelin             |\n"
   ]
  },
  {
   "cell_type": "markdown",
   "id": "9b6173ad-5122-4e7f-a1b4-9781ef4fb632",
   "metadata": {},
   "source": [
    "### Below are a few examples of evaluating arithmetic expressions in Python"
   ]
  },
  {
   "cell_type": "code",
   "execution_count": 11,
   "id": "ae3c2088-c262-459c-95a2-725ca5eac770",
   "metadata": {},
   "outputs": [
    {
     "data": {
      "text/plain": [
       "17"
      ]
     },
     "execution_count": 11,
     "metadata": {},
     "output_type": "execute_result"
    }
   ],
   "source": [
    "#  This a simple arithmetic expression to mutiply then add integers\n",
    "(3*4)+5"
   ]
  },
  {
   "cell_type": "code",
   "execution_count": 13,
   "id": "ac59ef3a-fc1d-4694-9386-7633af73ead3",
   "metadata": {},
   "outputs": [
    {
     "data": {
      "text/plain": [
       "3.3333333333333335"
      ]
     },
     "execution_count": 13,
     "metadata": {},
     "output_type": "execute_result"
    }
   ],
   "source": [
    "#  This will convert 200 minutes to hours by diving by 60\n",
    "200 / 60"
   ]
  },
  {
   "cell_type": "markdown",
   "id": "91824088-824a-48af-8815-d3d1b3d3eda8",
   "metadata": {},
   "source": [
    "**Objectives:**\n",
    "\n",
    "- List popular languages for Data Science\n",
    "- Identify commonly used open-source tools in Data Science\n",
    "- Create and format Markdown cells in Jupyter Notebook\n",
    "- Build and share a Jupyter Notebook using GitHub\n",
    "- Understand the role of development environments in Data Science workflows\n"
   ]
  },
  {
   "cell_type": "markdown",
   "id": "b7270391-b288-4bc6-9534-158755291275",
   "metadata": {},
   "source": [
    "## Author\n",
    "Caroline Njeri Mwangi\n"
   ]
  },
  {
   "cell_type": "code",
   "execution_count": null,
   "id": "546edbcc-504e-4f67-981b-66c1813212de",
   "metadata": {},
   "outputs": [],
   "source": []
  }
 ],
 "metadata": {
  "kernelspec": {
   "display_name": "Python 3 (ipykernel)",
   "language": "python",
   "name": "python3"
  },
  "language_info": {
   "codemirror_mode": {
    "name": "ipython",
    "version": 3
   },
   "file_extension": ".py",
   "mimetype": "text/x-python",
   "name": "python",
   "nbconvert_exporter": "python",
   "pygments_lexer": "ipython3",
   "version": "3.12.3"
  }
 },
 "nbformat": 4,
 "nbformat_minor": 5
}
